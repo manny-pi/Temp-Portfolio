{
 "cells": [
  {
   "cell_type": "code",
   "execution_count": 1,
   "metadata": {},
   "outputs": [],
   "source": [
    "import os.path\n",
    "import pathlib\n",
    "from bs4 import BeautifulSoup"
   ]
  },
  {
   "cell_type": "code",
   "execution_count": 2,
   "metadata": {},
   "outputs": [
    {
     "name": "stdout",
     "output_type": "stream",
     "text": [
      "['index.html', 'styles.css', 'blog/', 'manager.ipynb', 'manager.py']\n"
     ]
    }
   ],
   "source": [
    "def traverse_dir(dir: str, depth: int = 1):\n",
    "    \"\"\"Traverses the contents of the directory `dir`, and returns the names of structures \n",
    "    in a list.\n",
    "\n",
    "    Positional args:\n",
    "        - dir <str>: The directory to traverse. If `dir` doesn't exist in working directory, \n",
    "            the programs raises a `FileExistsError`.\n",
    "        - depth <int>: The depth of the traversal\n",
    "\n",
    "    Returns a list of files and directories.\n",
    "    \"\"\"\n",
    "    # If we're reached the depth limit of the traversal, return; don't do any more traversal\n",
    "    if depth == 0:\n",
    "        return []\n",
    "\n",
    "    if not os.path.exists(dir):\n",
    "        raise FileExistsError(\"'%s does not exist\" % dir)\n",
    "\n",
    "    dir = pathlib.Path(dir)\n",
    "\n",
    "    filenames = []  # TODO: Should this be named `filenames` or `paths` instead?\n",
    "    for file in dir.iterdir():\n",
    "        if file.is_file():\n",
    "            filenames.append(file.name)\n",
    "        else:\n",
    "            offset = len(filenames)\n",
    "            subdir_filenames = traverse_dir(file, depth - 1)\n",
    "            if len(subdir_filenames) > 0:\n",
    "                for sub_index in range(0, len(subdir_filenames)):\n",
    "                    subdir_filenames[sub_index] = file.name + '/' + subdir_filenames[sub_index]\n",
    "                filenames += subdir_filenames \n",
    "            else:\n",
    "                filenames += [file.name + '/']\n",
    "            \n",
    "    return filenames\n",
    "\n",
    "root = pathlib.Path(\".\")\n",
    "depth = 1\n",
    "files = traverse_dir(root, depth=depth)\n",
    "print(files)"
   ]
  },
  {
   "cell_type": "code",
   "execution_count": 3,
   "metadata": {},
   "outputs": [
    {
     "data": {
      "text/plain": [
       "[('index.html', ['blog/index.html'])]"
      ]
     },
     "execution_count": 3,
     "metadata": {},
     "output_type": "execute_result"
    }
   ],
   "source": [
    "def get_links(page: str):\n",
    "    \"\"\"\n",
    "    Returns all the links from a webpage.\n",
    "\n",
    "    args:\n",
    "        page <str>: The name of the HTML page that contains anchors.\n",
    "    \"\"\"\n",
    "    with open(page) as f:\n",
    "        page = BeautifulSoup(f, \"html.parser\") \n",
    "        anchor_tag = \"a\"\n",
    "        anchors = page.find_all(anchor_tag)\n",
    "        links = [anchor.get(\"href\") for anchor in anchors]\n",
    "\n",
    "        return links\n",
    "    \n",
    "links = []\n",
    "for file in files:\n",
    "    if \"html\" in file:\n",
    "        links += [(file, get_links(file))]\n",
    "\n",
    "links"
   ]
  },
  {
   "cell_type": "code",
   "execution_count": 4,
   "metadata": {},
   "outputs": [
    {
     "data": {
      "text/plain": [
       "['../f-index.html']"
      ]
     },
     "execution_count": 4,
     "metadata": {},
     "output_type": "execute_result"
    }
   ],
   "source": [
    "def get_broken_links(page):\n",
    "    \"\"\"\n",
    "    Returns a list that contains all the broken links.\n",
    "    \"\"\"\n",
    "    links = get_links(page)\n",
    "    broken_links = []\n",
    "    for link in links:\n",
    "        if not os.path.exists(link):\n",
    "            broken_links += [link]\n",
    "    \n",
    "    return broken_links\n",
    "    \n",
    "page = \"blog/index.html\"\n",
    "broken_links = get_broken_links(page)\n",
    "broken_links\n"
   ]
  }
 ],
 "metadata": {
  "kernelspec": {
   "display_name": "Python 3",
   "language": "python",
   "name": "python3"
  },
  "language_info": {
   "codemirror_mode": {
    "name": "ipython",
    "version": 3
   },
   "file_extension": ".py",
   "mimetype": "text/x-python",
   "name": "python",
   "nbconvert_exporter": "python",
   "pygments_lexer": "ipython3",
   "version": "3.8.2"
  }
 },
 "nbformat": 4,
 "nbformat_minor": 2
}
