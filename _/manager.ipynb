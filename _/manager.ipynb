{
 "cells": [
  {
   "cell_type": "code",
   "execution_count": 8,
   "metadata": {},
   "outputs": [],
   "source": [
    "import os\n",
    "import os.path\n",
    "import pathlib\n",
    "import sys\n",
    "from pprint import pprint\n",
    "from bs4 import BeautifulSoup"
   ]
  },
  {
   "cell_type": "code",
   "execution_count": 32,
   "metadata": {},
   "outputs": [
    {
     "name": "stdout",
     "output_type": "stream",
     "text": [
      "['reading/',\n",
      " 'snippets/',\n",
      " 'index.html',\n",
      " '.DS_Store',\n",
      " 'learn-with-me/',\n",
      " 'about.html',\n",
      " 'projects/',\n",
      " '_/',\n",
      " 'blog/',\n",
      " 'favicon.png',\n",
      " 'package.json',\n",
      " 'profile-picture.png',\n",
      " 'style.css',\n",
      " '.prettierrc']\n"
     ]
    }
   ],
   "source": [
    "def get_paths(dir: str, depth: int = 1, exclude=[\".git\", \".gitignore\", \"node_modules\"]):\n",
    "    \"\"\"Traverses the contents of the directory `dir`, and returns the paths of each file system \n",
    "    object relative to `dir`. \n",
    "\n",
    "    Positional args:\n",
    "        - dir <str>: The directory to traverse. If `dir` doesn't exist in working directory, \n",
    "            the programs raises a `FileExistsError`.\n",
    "        - depth <int>: The depth of the traversal.\n",
    "        - exclude <list>: A list of files and directories to exclude from the returned list. By\n",
    "        default, ignores `.git/`, `.gitignore`, and `node_modules/`.\n",
    "\n",
    "    Returns a list of files and directories.\n",
    "\n",
    "    FIXME: Update the name of the function to `get_paths` so it reflects its actual functionality\n",
    "    TODO: Update `exclude` parameter so that the list items can be regex (or globs?).\n",
    "    TODO: Add `excludedefault` to optinally exclude the files that are excluded by default (mouthful, lol)\n",
    "    \"\"\"\n",
    "\n",
    "    if not os.path.exists(dir):\n",
    "        raise FileExistsError(\"'%s does not exist\" % dir)\n",
    "\n",
    "    # If we've reached the depth limit of the traversal, return; don't traverse anymore\n",
    "    if depth == 0:\n",
    "        return []\n",
    "\n",
    "    dir = pathlib.Path(dir)\n",
    "    paths = []  # TODO: Should this be named `filenames` or `paths` instead?\n",
    "    for file in dir.iterdir():\n",
    "        # Ignore that paths listed in `exclude`.\n",
    "        if file.name in exclude:\n",
    "            continue\n",
    "        \n",
    "        if file.is_file():\n",
    "            paths.append(file.name)\n",
    "        else:\n",
    "            subdir_paths = get_paths(file, depth - 1)\n",
    "            # If the subdirectory is empty or we reached the depth limit\n",
    "            if len(subdir_paths) == 0:\n",
    "                paths += [file.name + '/']\n",
    "\n",
    "            # Concatenate the directory path to the returned list of subdirectories\n",
    "            else:\n",
    "                for sub_index in range(0, len(subdir_paths)):\n",
    "                    subdir_paths[sub_index] = file.name + \\\n",
    "                        '/' + subdir_paths[sub_index]\n",
    "                paths += subdir_paths\n",
    "\n",
    "    return paths\n",
    "\n",
    "\n",
    "root = pathlib.Path(\"..\")\n",
    "depth = 1\n",
    "paths = get_paths(root, depth=depth)\n",
    "pprint(paths)"
   ]
  },
  {
   "cell_type": "code",
   "execution_count": 3,
   "metadata": {},
   "outputs": [
    {
     "data": {
      "text/plain": [
       "[('index.html', ['blog/index.html'])]"
      ]
     },
     "execution_count": 3,
     "metadata": {},
     "output_type": "execute_result"
    }
   ],
   "source": [
    "def get_links(page: str):\n",
    "    \"\"\"\n",
    "    Returns all the links from a webpage.\n",
    "\n",
    "    args:\n",
    "        page <str>: The name of the HTML page that contains anchors.\n",
    "    \"\"\"\n",
    "    with open(page) as f:\n",
    "        page = BeautifulSoup(f, \"html.parser\") \n",
    "        anchor_tag = \"a\"\n",
    "        anchors = page.find_all(anchor_tag)\n",
    "        links = [anchor.get(\"href\") for anchor in anchors]\n",
    "\n",
    "        return links\n",
    "    \n",
    "links = []\n",
    "for file in files:\n",
    "    if \"html\" in file:\n",
    "        links += [(file, get_links(file))]\n",
    "\n",
    "links"
   ]
  },
  {
   "cell_type": "code",
   "execution_count": 4,
   "metadata": {},
   "outputs": [
    {
     "data": {
      "text/plain": [
       "['../f-index.html']"
      ]
     },
     "execution_count": 4,
     "metadata": {},
     "output_type": "execute_result"
    }
   ],
   "source": [
    "def get_broken_links(page):\n",
    "    \"\"\"\n",
    "    Returns a list that contains all the broken links.\n",
    "    \"\"\"\n",
    "    links = get_links(page)\n",
    "    broken_links = []\n",
    "    for link in links:\n",
    "        if not os.path.exists(link):\n",
    "            broken_links += [link]\n",
    "    \n",
    "    return broken_links\n",
    "    \n",
    "page = \"blog/index.html\"\n",
    "broken_links = get_broken_links(page)\n",
    "broken_links\n"
   ]
  }
 ],
 "metadata": {
  "kernelspec": {
   "display_name": "Python 3",
   "language": "python",
   "name": "python3"
  },
  "language_info": {
   "codemirror_mode": {
    "name": "ipython",
    "version": 3
   },
   "file_extension": ".py",
   "mimetype": "text/x-python",
   "name": "python",
   "nbconvert_exporter": "python",
   "pygments_lexer": "ipython3",
   "version": "3.8.2"
  }
 },
 "nbformat": 4,
 "nbformat_minor": 2
}
