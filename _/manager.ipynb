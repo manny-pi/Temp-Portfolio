{
 "cells": [
  {
   "cell_type": "code",
   "execution_count": 43,
   "metadata": {},
   "outputs": [],
   "source": [
    "import os\n",
    "import os.path\n",
    "import pathlib\n",
    "from pprint import pprint\n",
    "from bs4 import BeautifulSoup"
   ]
  },
  {
   "cell_type": "code",
   "execution_count": 48,
   "metadata": {},
   "outputs": [
    {
     "name": "stdout",
     "output_type": "stream",
     "text": [
      "['index.html',\n",
      " 'styles.css',\n",
      " 'blog/index.html',\n",
      " 'blog/styles.css',\n",
      " 'README.md',\n",
      " 'manager.ipynb',\n",
      " 'manager.py']\n"
     ]
    }
   ],
   "source": [
    "def get_paths(dir: str, depth: int = 1, exclude=[\".git\", \".gitignore\", \"node_modules\"]):\n",
    "    \"\"\"Traverses the the directory `dir`, and returns a list of paths relative to `dir`. \n",
    "\n",
    "    Positional args:\n",
    "        - dir <str>: The directory to traverse. If `dir` doesn't exist in working directory, \n",
    "            the programs raises a `FileExistsError`.\n",
    "        - depth <int>: The depth of the traversal.\n",
    "    Optional args: \n",
    "        - exclude <list>: A list of files and/or directories to exclude from the returned list. By\n",
    "        default, ignores `.git/`, `.gitignore`, and `node_modules/`.\n",
    "\n",
    "    Returns a list of paths to files and directories.\n",
    "\n",
    "    TODO: Update `exclude` parameter so that the list items can be regex (or globs?).\n",
    "    TODO: Add `excludedefault` to optinally exclude the files that are excluded by default (mouthful, lol)\n",
    "    \"\"\"\n",
    "\n",
    "    if not os.path.exists(dir):\n",
    "        raise FileExistsError(\"'%s does not exist\" % dir)\n",
    "\n",
    "    # If we've reached the depth limit of the traversal, return; don't traverse anymore\n",
    "    if depth == 0:\n",
    "        return []\n",
    "\n",
    "    dir = pathlib.Path(dir)\n",
    "    paths = []  # TODO: Should this be named `filenames` or `paths` instead?\n",
    "    for file in dir.iterdir():\n",
    "        # Ignore that paths listed in `exclude`.\n",
    "        if file.name in exclude:\n",
    "            continue\n",
    "        \n",
    "        if file.is_file():\n",
    "            paths.append(file.name)\n",
    "        else:\n",
    "            subdir_paths = get_paths(file, depth - 1)\n",
    "            # If the subdirectory is empty or we reached the depth limit\n",
    "            if len(subdir_paths) == 0:\n",
    "                paths += [file.name + '/']\n",
    "\n",
    "            # Concatenate the directory path to the returned list of subdirectories\n",
    "            else:\n",
    "                for sub_index in range(0, len(subdir_paths)):\n",
    "                    subdir_paths[sub_index] = file.name + \\\n",
    "                        '/' + subdir_paths[sub_index]\n",
    "                paths += subdir_paths\n",
    "\n",
    "    return paths\n",
    "\n",
    "\n",
    "root = pathlib.Path(\".\")\n",
    "depth = 2\n",
    "paths = get_paths(root, depth=depth)\n",
    "pprint(paths)"
   ]
  },
  {
   "cell_type": "code",
   "execution_count": 78,
   "metadata": {},
   "outputs": [
    {
     "data": {
      "text/plain": [
       "[('index.html', ['blog/index.html']),\n",
       " ('blog/index.html', ['../index.html', '../f-index.html'])]"
      ]
     },
     "execution_count": 78,
     "metadata": {},
     "output_type": "execute_result"
    }
   ],
   "source": [
    "def get_links(path: str):\n",
    "    \"\"\"\n",
    "    Returns an array of links in a webpage.\n",
    "\n",
    "    Positional args:\n",
    "        page <str>: The path to an HTML page that contains anchors.\n",
    "    \"\"\"\n",
    "    with open(path) as f:\n",
    "        page = BeautifulSoup(f, \"html.parser\") \n",
    "        anchor_tag = \"a\"\n",
    "        anchors = page.find_all(anchor_tag)\n",
    "        links = [anchor.get(\"href\") for anchor in anchors]\n",
    "\n",
    "        return links\n",
    "    \n",
    "links = []\n",
    "for path in paths:\n",
    "    if \"html\" in path:\n",
    "        links += [(path, get_links(path))]\n",
    "\n",
    "links"
   ]
  },
  {
   "cell_type": "code",
   "execution_count": 107,
   "metadata": {},
   "outputs": [
    {
     "name": "stdout",
     "output_type": "stream",
     "text": [
      "blog/index.html   blog   ../index.html   ['index.html'] 1\n",
      "blog/index.html   blog   ../f-index.html   ['f-index.html'] 1\n",
      "['../f-index.html']\n"
     ]
    }
   ],
   "source": [
    "def get_broken_links(path: str):\n",
    "    \"\"\"\n",
    "    Returns a list that contains all the broken links in `page`.\n",
    "\n",
    "    args:\n",
    "        path <str>: The path to an html page.\n",
    "    TODO: Should the returned list also contain broken 'jump links'?\n",
    "    TODO: (1) make this a logging feature.\n",
    "    \"\"\"\n",
    "    links = get_links(path)\n",
    "    broken_links = []\n",
    "    for link in links:\n",
    "        dirname = os.path.dirname(path)\n",
    "        basename = os.path.basename(path)\n",
    "        parent = link.count(\"..\")\n",
    "        truncated_link = link.split('/')[parent:]\n",
    "        # print(path, ' <', dirname, '> ', link,\n",
    "        #       ' ', truncated_link, parent)  # (1)\n",
    "\n",
    "        if not parent:\n",
    "            if dirname != \"\": \n",
    "                resolved_path = '/'.join([dirname, link])\n",
    "            else: \n",
    "                resolved_path = link\n",
    "            if not os.path.exists(resolved_path):\n",
    "                broken_links += [link]\n",
    "        else:\n",
    "            # split the directory into its components\n",
    "            dirname = dirname.split('/')\n",
    "            # Create a search path\n",
    "            try:\n",
    "                # Get the parent directory of the referrant\n",
    "                search_path = dirname[:-(parent + 1)]\n",
    "            except IndexError:\n",
    "                # If the search goes out of bounds, the search directory is the root of the project\n",
    "                search_path = []\n",
    "\n",
    "            resource_path = '/'.join(search_path + truncated_link)\n",
    "            if not os.path.exists(resource_path):\n",
    "                broken_links += [link]\n",
    "    return broken_links\n",
    "\n",
    "\n",
    "print(get_broken_links(\"blog/index.html\"))"
   ]
  },
  {
   "cell_type": "code",
   "execution_count": 80,
   "metadata": {},
   "outputs": [
    {
     "ename": "FileNotFoundError",
     "evalue": "[Errno 2] No such file or directory: 'snippets/layout.html'",
     "output_type": "error",
     "traceback": [
      "\u001b[0;31m---------------------------------------------------------------------------\u001b[0m",
      "\u001b[0;31mFileNotFoundError\u001b[0m                         Traceback (most recent call last)",
      "\u001b[0;32m/var/folders/w2/c53crljd2y523fsqplb9bml00000gp/T/ipykernel_57974/2302139331.py\u001b[0m in \u001b[0;36m<module>\u001b[0;34m\u001b[0m\n\u001b[1;32m     12\u001b[0m             )\n\u001b[1;32m     13\u001b[0m \u001b[0;34m\u001b[0m\u001b[0m\n\u001b[0;32m---> 14\u001b[0;31m \u001b[0mscan_directory\u001b[0m\u001b[0;34m(\u001b[0m\u001b[0;34m\"..\"\u001b[0m\u001b[0;34m)\u001b[0m\u001b[0;34m\u001b[0m\u001b[0;34m\u001b[0m\u001b[0m\n\u001b[0m",
      "\u001b[0;32m/var/folders/w2/c53crljd2y523fsqplb9bml00000gp/T/ipykernel_57974/2302139331.py\u001b[0m in \u001b[0;36mscan_directory\u001b[0;34m(path)\u001b[0m\n\u001b[1;32m      9\u001b[0m         \u001b[0;32mif\u001b[0m \u001b[0mext\u001b[0m \u001b[0;34m==\u001b[0m \u001b[0;34m\".html\"\u001b[0m\u001b[0;34m:\u001b[0m\u001b[0;34m\u001b[0m\u001b[0;34m\u001b[0m\u001b[0m\n\u001b[1;32m     10\u001b[0m             print(\n\u001b[0;32m---> 11\u001b[0;31m                 \u001b[0;34mf\"{path}: {get_broken_links(path)}\"\u001b[0m\u001b[0;34m\u001b[0m\u001b[0;34m\u001b[0m\u001b[0m\n\u001b[0m\u001b[1;32m     12\u001b[0m             )\n\u001b[1;32m     13\u001b[0m \u001b[0;34m\u001b[0m\u001b[0m\n",
      "\u001b[0;32m/var/folders/w2/c53crljd2y523fsqplb9bml00000gp/T/ipykernel_57974/2773805573.py\u001b[0m in \u001b[0;36mget_broken_links\u001b[0;34m(path)\u001b[0m\n\u001b[1;32m     12\u001b[0m     \u001b[0mof\u001b[0m \u001b[0mrelative\u001b[0m \u001b[0mto\u001b[0m\u001b[0;31m \u001b[0m\u001b[0;31m`\u001b[0m\u001b[0mblog\u001b[0m\u001b[0;34m/\u001b[0m\u001b[0;31m`\u001b[0m\u001b[0;34m.\u001b[0m\u001b[0;34m\u001b[0m\u001b[0;34m\u001b[0m\u001b[0m\n\u001b[1;32m     13\u001b[0m     \"\"\"\n\u001b[0;32m---> 14\u001b[0;31m     \u001b[0mlinks\u001b[0m \u001b[0;34m=\u001b[0m \u001b[0mget_links\u001b[0m\u001b[0;34m(\u001b[0m\u001b[0mpath\u001b[0m\u001b[0;34m)\u001b[0m\u001b[0;34m\u001b[0m\u001b[0;34m\u001b[0m\u001b[0m\n\u001b[0m\u001b[1;32m     15\u001b[0m     \u001b[0mbroken_links\u001b[0m \u001b[0;34m=\u001b[0m \u001b[0;34m[\u001b[0m\u001b[0;34m]\u001b[0m\u001b[0;34m\u001b[0m\u001b[0;34m\u001b[0m\u001b[0m\n\u001b[1;32m     16\u001b[0m     \u001b[0;32mfor\u001b[0m \u001b[0mlink\u001b[0m \u001b[0;32min\u001b[0m \u001b[0mlinks\u001b[0m\u001b[0;34m:\u001b[0m\u001b[0;34m\u001b[0m\u001b[0;34m\u001b[0m\u001b[0m\n",
      "\u001b[0;32m/var/folders/w2/c53crljd2y523fsqplb9bml00000gp/T/ipykernel_57974/4133177135.py\u001b[0m in \u001b[0;36mget_links\u001b[0;34m(path)\u001b[0m\n\u001b[1;32m      6\u001b[0m         \u001b[0mpage\u001b[0m \u001b[0;34m<\u001b[0m\u001b[0mstr\u001b[0m\u001b[0;34m>\u001b[0m\u001b[0;34m:\u001b[0m \u001b[0mThe\u001b[0m \u001b[0mpath\u001b[0m \u001b[0mto\u001b[0m \u001b[0man\u001b[0m \u001b[0mHTML\u001b[0m \u001b[0mpage\u001b[0m \u001b[0mthat\u001b[0m \u001b[0mcontains\u001b[0m \u001b[0manchors\u001b[0m\u001b[0;34m.\u001b[0m\u001b[0;34m\u001b[0m\u001b[0;34m\u001b[0m\u001b[0m\n\u001b[1;32m      7\u001b[0m     \"\"\"\n\u001b[0;32m----> 8\u001b[0;31m     \u001b[0;32mwith\u001b[0m \u001b[0mopen\u001b[0m\u001b[0;34m(\u001b[0m\u001b[0mpath\u001b[0m\u001b[0;34m)\u001b[0m \u001b[0;32mas\u001b[0m \u001b[0mf\u001b[0m\u001b[0;34m:\u001b[0m\u001b[0;34m\u001b[0m\u001b[0;34m\u001b[0m\u001b[0m\n\u001b[0m\u001b[1;32m      9\u001b[0m         \u001b[0mpage\u001b[0m \u001b[0;34m=\u001b[0m \u001b[0mBeautifulSoup\u001b[0m\u001b[0;34m(\u001b[0m\u001b[0mf\u001b[0m\u001b[0;34m,\u001b[0m \u001b[0;34m\"html.parser\"\u001b[0m\u001b[0;34m)\u001b[0m\u001b[0;34m\u001b[0m\u001b[0;34m\u001b[0m\u001b[0m\n\u001b[1;32m     10\u001b[0m         \u001b[0manchor_tag\u001b[0m \u001b[0;34m=\u001b[0m \u001b[0;34m\"a\"\u001b[0m\u001b[0;34m\u001b[0m\u001b[0;34m\u001b[0m\u001b[0m\n",
      "\u001b[0;31mFileNotFoundError\u001b[0m: [Errno 2] No such file or directory: 'snippets/layout.html'"
     ]
    }
   ],
   "source": [
    "def scan_directory(path: str):\n",
    "    \"\"\"\"\"\"\n",
    "    paths = get_paths(path, depth=2)\n",
    "    for path in paths:\n",
    "        basename = os.path.basename(path) # get the basename \n",
    "        name, ext = os.path.splitext(basename) # get the filename and extension\n",
    "\n",
    "        # This kind of filtering should be encapsulated in `get_paths()`\n",
    "        if ext == \".html\":\n",
    "            print(\n",
    "                f\"{path}: {get_broken_links(path)}\"\n",
    "            )\n",
    "\n",
    "scan_directory(\"..\")"
   ]
  }
 ],
 "metadata": {
  "kernelspec": {
   "display_name": "Python 3",
   "language": "python",
   "name": "python3"
  },
  "language_info": {
   "codemirror_mode": {
    "name": "ipython",
    "version": 3
   },
   "file_extension": ".py",
   "mimetype": "text/x-python",
   "name": "python",
   "nbconvert_exporter": "python",
   "pygments_lexer": "ipython3",
   "version": "3.8.2"
  }
 },
 "nbformat": 4,
 "nbformat_minor": 2
}
